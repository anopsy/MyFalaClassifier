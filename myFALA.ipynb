{
  "nbformat": 4,
  "nbformat_minor": 0,
  "metadata": {
    "colab": {
      "provenance": [],
      "authorship_tag": "ABX9TyNZaNYJIL5GpuzDfqa5CU8G",
      "include_colab_link": true
    },
    "kernelspec": {
      "name": "python3",
      "display_name": "Python 3"
    },
    "language_info": {
      "name": "python"
    }
  },
  "cells": [
    {
      "cell_type": "markdown",
      "metadata": {
        "id": "view-in-github",
        "colab_type": "text"
      },
      "source": [
        "<a href=\"https://colab.research.google.com/github/anopsy/MyFala/blob/main/myFALA.ipynb\" target=\"_parent\"><img src=\"https://colab.research.google.com/assets/colab-badge.svg\" alt=\"Open In Colab\"/></a>"
      ]
    },
    {
      "cell_type": "code",
      "execution_count": null,
      "metadata": {
        "id": "bbmbjs16gbav"
      },
      "outputs": [],
      "source": [
        "from google.colab import drive\n",
        "drive.mount('/content/gdrive')\n",
        "\n",
        "import time\n",
        "import datetime\n",
        "import os\n",
        "import sys \n",
        "import cv2\n",
        "\n",
        "\n",
        "!gdown '/content/gdrive/MyDrive/train_data/'\n",
        "!apt install ffmpeg\n",
        "\n",
        "walk_dir = os.getcwd()\n",
        "count = 0\n",
        "\n",
        "for root, subdirs, files in os.walk(walk_dir):\n",
        "  for file in files:\n",
        "    if (file.split(\".\")[-1].lower() == 'ts'):\n",
        "      filePath = os.path.join(root, file)\n",
        "      mp4FilePath = os.path.join(root, os.path.splitext(file)[0] + \".mp4\")\n",
        "      if os.path.isfile(mp4FilePath):\n",
        "        continue\n",
        "      os.system(\"ffmpeg -i \" + \"\\\"\" + filePath + \"\\\"\"  + \" \\\"\" + mp4FilePath + \"\\\"\")\n",
        "      count = count + 1\n",
        "      print (\"\\\"\" + filePath + \"\\\"\")\n",
        "print (\"Done the total number of file was be converted: \", count)\n",
        "\n",
        "# Function to extract frames\n",
        "def FrameCapture(path, x):\n",
        "    # Path to video file\n",
        "    vidObj = cv2.VideoCapture(path)\n",
        "    # Used as counter variable\n",
        "    count = 0\n",
        "    # checks whether frames were extracted\n",
        "    success = 1\n",
        "\n",
        "    while success:\n",
        "        # vidObj object calls read\n",
        "        # function extract frames\n",
        "        success, image = vidObj.read()\n",
        "        if success != 1:\n",
        "            break\n",
        "        print(success)\n",
        "        # Saves the frames with frame-count\n",
        "        name = \"{x}frame{count}.jpg\".format(x= x, count=count)\n",
        "        cv2.imwrite(name, image)\n",
        "        count += 1\n",
        "        print(count)\n",
        "    vidObj.release()\n",
        "\n",
        "\n",
        "# Driver Code\n",
        "if __name__ == '__main__':\n",
        "    walk_dir = os.getcwd()\n",
        "    i = 0\n",
        "\n",
        "for root, subdirs, files in os.walk(walk_dir):\n",
        "    for file in files:\n",
        "        i += 1\n",
        "        if (file.split(\".\")[-1].lower() == 'mp4'):\n",
        "            filePath = os.path.join(root, file)\n",
        "            print(filePath)\n",
        "            if os.path.isfile(filePath):\n",
        "\t            # Calling the function\n",
        "                FrameCapture(filePath,i )\n",
        "            else:\n",
        "                continue\n",
        "\n"
      ]
    },
    {
      "cell_type": "code",
      "source": [
        "import os\n",
        "import shutil\n",
        "\n",
        "directory = '/content'\n",
        "targetdir = '/content/frames'\n",
        "for file in sorted(os.listdir(directory)):\n",
        "    print(file)\n",
        "    if file.endswith('.jpg'):\n",
        "      oldname = directory+'/'+file\n",
        "      newname = targetdir\n",
        "      shutil.move(oldname, targetdir)\n",
        "      print('done')\n",
        "    else:\n",
        "      print('not a jpg')\n",
        "      continue"
      ],
      "metadata": {
        "id": "qxw2FcKsgljP"
      },
      "execution_count": null,
      "outputs": []
    }
  ]
}